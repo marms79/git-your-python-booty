{
 "cells": [
  {
   "cell_type": "markdown",
   "metadata": {},
   "source": [
    "# A Few Notes on Notebooks\n",
    "\n",
    "* **Notebooks contain cells.** The cells can defined as Markdown, code, headings, etc.  The drop down menu above allows you to change the cell type.  This cell is written in Markdown. \n",
    "\n",
    "\n",
    "* **The cell you are currently on is outlined.** To navigate to other cells, you can either click on the cell, or if the outline of the cell is in **blue**, you can use the up and down arrows. Blue indicates that you are not in edit mode. To enter (and edit) a cell like this one, double click on it.  Note the color of the cell outline turned **green**, indicating you are in edit mode.   \n",
    "\n",
    "\n",
    "* **To execute a cell**, click on the fast-forward sign above.  Alternatively, you can type Shift + Return.  \n",
    "    * **Executing this Markdown cell** brings it back to the website view.  \n",
    "    * **Cells defined as code:**\n",
    "        * Code cells have the text 'In [ ]:' To the left of the cell.  \n",
    "            * **NOT EXECUTED** -- space inside the square brackets is blank. \n",
    "            * **EXECUTED** -- a number will appear inside the square brackets.  *The number corresponds to when the cell was executed.  For example, if it is the first cell you executed, the text to the left would show 'In [1]:'.*\n",
    "            * **Cells should be executed in order.**  *If a cell is not executed and a later cell depends on the prior, an error will be thrown.*\n",
    "\n",
    "\n",
    "* **To insert a new cell** go to Insert --> Insert Cell Above/Below.  To **delete** a cell, go to Edit --> Delete cells.  Alternatively, short cut keys are **'a'** to add a cell and **'dd'** to delete.  The trick here is to be sure you are not 'in the cell' -- meaning you are not in edit mode.  If you are in edit mode, a green box will outline the cell.  If you are outside of your cell, the box turns blue.  Once your outline is blue you can type a or dd, which will add or delete your cell.\n",
    "\n",
    "\n",
    "* **Cell operations** such as copy/paste, etc., can be performed under edit."
   ]
  },
  {
   "cell_type": "markdown",
   "metadata": {},
   "source": [
    "# Data Types:  Show me the data!"
   ]
  },
  {
   "cell_type": "markdown",
   "metadata": {},
   "source": [
    "In Python, EVERYTHING is an **object**.  An object can be assigned to a variable, and have **methods** associated with them.  A method is an operation, or function that can be applied to the object. \n",
    "\n",
    "A **data type** is an object and is defined by the values it can take, and the operations that can be performed on it.  The data types we will cover are:\n",
    "\n",
    "* **Strings**\n",
    "        Sequences of characters (e.g., a = 'Hello'  or  a = \"World\")\n",
    "* **Integers**\n",
    "        Signed Whole Numbers (... -3, -2, -1, 0, 1, 2, 3, ...)\n",
    "* **Floats** (aka \"floating point numbers\")\n",
    "        Real numbers represented using a decimal (1.0, 1.1, 2.45, etc.) \n",
    "* **Booleans**\n",
    "        Only two: True or False (1 or 0)\n",
    "* **Lists** -- are surrounded by [ ] and contain elements\n",
    "        [1,2,3], [\"a\", \"b\", \"c\"], [1, \"a\", 12.6, [1,2,3] ] ....\n",
    "* **Tuples** -- like Lists but they are *immutable* - like strings. Surrounded by ( )\n",
    "        (5,3), (0,0,0), ('a', 'b', 'c', 'd'),  \n",
    "* **Dictionaries**  -- are surrounded by { } and contain *key : value* pairs\n",
    "        {\"a\" : \"alphabet\", \"b\" : \"butterfly\", \"c\" : \"caterpillar\", \"d\" : \"dragon\"}\n",
    "        {0 : [0,1,2], 1: [\"a\", \"b\"], \"alpha\" : \"omega\"}\n",
    "\n",
    "This list is NOT exhaustive, nor are the data types unique to Python.\n",
    "\n",
    "A **variable** is an object where a data value can be stored. In Python variables are not assigned a particular data type. Python just looks at what you assign the variable and infers the data type. Variables may contain letters, numbers, underscores, and are CASE SENSITIVE. Variables may start with a number or an underscore:\n",
    "    ` a = 5, _apple = \"apple\", x1 = [1,1,1], x2 = (3,4,17), my_dictionary1 = {\"a\":\"apple, \"b\":\"banana\"} `<br>\n",
    "    ` A1 = \"Alfred\", _B_45_ = 314.00033`\n",
    "    \n",
    "The same variable may be use to represent any data type:\n"
   ]
  },
  {
   "cell_type": "code",
   "execution_count": 10,
   "metadata": {
    "collapsed": false
   },
   "outputs": [],
   "source": [
    "a = \"I am a string\"\n",
    "a = 54\n",
    "a = [1,2,3]"
   ]
  },
  {
   "cell_type": "markdown",
   "metadata": {},
   "source": [
    "\n",
    "### When do I use (), [], or {}?\n",
    "\n",
    "\n",
    "* When you're indexing into a list or string, use brackets (```[]```)\n",
    "\n",
    "  For example: \n",
    "              mylist = [1,2,3]\n",
    "              mylist[0] \n",
    "              \n",
    "              mystring = 'hello'\n",
    "              mystring[2] \n",
    "\n",
    "* When you're creating a dictionary, use curly brackets (```{}```)\n",
    "    \n",
    "  For example:\n",
    "              mydict = {'a': 1, 'b': 2}\n",
    "              \n",
    "* When you're using a method on an object, use parentheses (```()```) after the method name:\n",
    "   \n",
    "  For example:\n",
    "              mystring = 'hi'\n",
    "              mystring.count('h')"
   ]
  },
  {
   "cell_type": "markdown",
   "metadata": {},
   "source": [
    "###  Referencing elements of strings, lists, and tuples\n",
    "Use square brackets to choose elements of a string, list, or tuple: "
   ]
  },
  {
   "cell_type": "code",
   "execution_count": 46,
   "metadata": {
    "collapsed": false
   },
   "outputs": [],
   "source": [
    "greeting = 'Hello World'\n",
    "misc_stuff = [17, 'a', 1.7, 'hello world']\n",
    "Counts = (15, 25, 33)"
   ]
  },
  {
   "cell_type": "markdown",
   "metadata": {},
   "source": [
    "a[x:y+1] returns the xth through the (y-1)th elements in a. <br>\n",
    "a[:y] return the first through the (y-1)th element in a. <br>\n",
    "a[x:] return the xth through the last element in a. <br>\n",
    "a[-1] returns the last element in a. <br>\n",
    "Try it:"
   ]
  },
  {
   "cell_type": "code",
   "execution_count": null,
   "metadata": {
    "collapsed": true
   },
   "outputs": [],
   "source": []
  },
  {
   "cell_type": "markdown",
   "metadata": {},
   "source": [
    "### 1. Strings \n",
    "An ordered sequence of characters.  In python, it is defined in quotes."
   ]
  },
  {
   "cell_type": "code",
   "execution_count": 14,
   "metadata": {
    "collapsed": false
   },
   "outputs": [],
   "source": [
    "a = 'Monty Python likes rocks.'"
   ]
  },
  {
   "cell_type": "markdown",
   "metadata": {},
   "source": [
    "You can find out how many letters are in this string by typing ```len(a)```.  Try it out in the next cell."
   ]
  },
  {
   "cell_type": "code",
   "execution_count": null,
   "metadata": {
    "collapsed": false
   },
   "outputs": [],
   "source": [
    "\n"
   ]
  },
  {
   "cell_type": "markdown",
   "metadata": {},
   "source": [
    "You can see what sorts of methods are associated with a string by typing ```a.``` and then pressing tab.  Give it a try!"
   ]
  },
  {
   "cell_type": "code",
   "execution_count": null,
   "metadata": {
    "collapsed": false
   },
   "outputs": [],
   "source": []
  },
  {
   "cell_type": "markdown",
   "metadata": {},
   "source": [
    "You can find out a little about the method by typing ```a.method?``` then pressing shift+tab.  For example, you might want to know how many o's are in the string. You can find out a little about the method **count()** by typing ```a.count?```.  Try it out."
   ]
  },
  {
   "cell_type": "code",
   "execution_count": null,
   "metadata": {
    "collapsed": false
   },
   "outputs": [],
   "source": []
  },
  {
   "cell_type": "markdown",
   "metadata": {},
   "source": [
    "If you still have questions about what this does, remember that [Google](https://www.google.com/) and [Stack Overflow](http://stackoverflow.com/) are your friends ;-).\n",
    "\n",
    "You can execute that function by typing ```a.count()```.  Note the parentheses.  If parens are not specified, python will tell you that it is a function (so use parentheses!).  Try executing some of the methods below. "
   ]
  },
  {
   "cell_type": "code",
   "execution_count": null,
   "metadata": {
    "collapsed": false
   },
   "outputs": [],
   "source": []
  },
  {
   "cell_type": "markdown",
   "metadata": {},
   "source": [
    "Each letter, number, space or symbol in a string is indexed, which defines the order of the elements in the string, starting at 0. The index of the string is defined in square brackets. For Example:\n",
    "\n",
    "In our variable a is defined as the string: 'Monty Python likes rocks.' So...\n",
    "\n",
    "    'M' --> a[0]\n",
    "    'o' --> a[1]\n",
    "    'n' --> a[2]\n",
    "    etc...\n",
    "\n",
    "How would you get the 'l'?"
   ]
  },
  {
   "cell_type": "code",
   "execution_count": null,
   "metadata": {
    "collapsed": false
   },
   "outputs": [],
   "source": [
    "a[13]"
   ]
  },
  {
   "cell_type": "markdown",
   "metadata": {},
   "source": [
    "You can also extract part of the string by specifying their start index and a stop which is the index of the character you would like to stop at + 1. The two numbers are separated by a colon.  For example, if I want to return a string that just says 'Python' you could type ```a[6:12]```.  Try it out.  "
   ]
  },
  {
   "cell_type": "code",
   "execution_count": null,
   "metadata": {
    "collapsed": false
   },
   "outputs": [],
   "source": [
    "a[6:12]"
   ]
  },
  {
   "cell_type": "markdown",
   "metadata": {},
   "source": [
    "From the string defined as variable a, how would you get 'rocks'?"
   ]
  },
  {
   "cell_type": "code",
   "execution_count": null,
   "metadata": {
    "collapsed": false
   },
   "outputs": [],
   "source": [
    "a[19:24]"
   ]
  },
  {
   "cell_type": "markdown",
   "metadata": {},
   "source": [
    "You can get the last element of your string by typing ```a[-1]```. The negative sign essentially means it is reversing the indexing, except it does not include a[-0]. So, for our string 'Monty Python likes rocks.' we have:\n",
    "\n",
    "    '.' --> a[-1]\n",
    "    's' --> a[-2]\n",
    "    'k' --> a[-3]\n",
    "    'c' --> a[-4]\n",
    "    'o' --> a[-5]\n",
    "    'r' --> a[-6]\n",
    "    etc...\n",
    "\n",
    "Using the negative indexing, how do you get the 'P' in 'Python'? "
   ]
  },
  {
   "cell_type": "code",
   "execution_count": null,
   "metadata": {
    "collapsed": false
   },
   "outputs": [],
   "source": [
    "a[-19]"
   ]
  },
  {
   "cell_type": "markdown",
   "metadata": {},
   "source": [
    "If you don't specify a start, but specify a stop (the number after the colon), python will return the first characters until your specified stop.  For example, if you want to grab 'Mo', you could type ```a[:2]```.  Try it in the next cell."
   ]
  },
  {
   "cell_type": "code",
   "execution_count": null,
   "metadata": {
    "collapsed": false
   },
   "outputs": [],
   "source": [
    "a[:2]"
   ]
  },
  {
   "cell_type": "markdown",
   "metadata": {},
   "source": [
    "You can get all *but* the last few characters by using the negative sign, e.g., ```a[:-2]```.  Try it below."
   ]
  },
  {
   "cell_type": "code",
   "execution_count": null,
   "metadata": {
    "collapsed": false
   },
   "outputs": [],
   "source": [
    "a[:-2]"
   ]
  },
  {
   "cell_type": "markdown",
   "metadata": {},
   "source": [
    "You can print a string backwards by typing ```a[::-1]```.  How do you print every other letter in a string backwards?"
   ]
  },
  {
   "cell_type": "code",
   "execution_count": null,
   "metadata": {
    "collapsed": false
   },
   "outputs": [],
   "source": [
    "a[::-3]"
   ]
  },
  {
   "cell_type": "markdown",
   "metadata": {},
   "source": [
    "### Exercise 1: Now you know how to break apart strings and make new strings.  You can also add strings together with the + sign.  Knowing what you've learned, try taking the string above and make a new string with variable name new_string and value 'Python rocks'."
   ]
  },
  {
   "cell_type": "code",
   "execution_count": null,
   "metadata": {
    "collapsed": false
   },
   "outputs": [],
   "source": []
  },
  {
   "cell_type": "markdown",
   "metadata": {},
   "source": [
    "*Keep in mind that you can add strings, however, you cannot subtract them.*"
   ]
  },
  {
   "cell_type": "markdown",
   "metadata": {},
   "source": [
    "### 2. Integers and Floats \n",
    "\n",
    "An integer is a whole number that is not a fraction.  A float is a real number that has a decimal points dividing the integer and fractional parts. In python you can specify floats simply by entering a number with a decimal point. If a decimal point is not specified, python interprets the number an integer.  Integers can also be explicitly specified using int(), and floats with float().  Examples below:"
   ]
  },
  {
   "cell_type": "code",
   "execution_count": null,
   "metadata": {
    "collapsed": true
   },
   "outputs": [],
   "source": [
    "a = 1  # Integer\n",
    "b = 10.2531  # Decimal (float)\n",
    "c = int(1) \n",
    "d = float(1)"
   ]
  },
  {
   "cell_type": "markdown",
   "metadata": {},
   "source": [
    "You can see what data type something is by using the type method.  For example, ```type(a)```. You can verify the data types of a through d below."
   ]
  },
  {
   "cell_type": "code",
   "execution_count": null,
   "metadata": {
    "collapsed": false
   },
   "outputs": [],
   "source": [
    "type(a)"
   ]
  },
  {
   "cell_type": "markdown",
   "metadata": {},
   "source": [
    "*Python supports four types of numbers: integers (for the developers in the crowd: they're signed), long integers, floating point numbers, and complex numbers.*"
   ]
  },
  {
   "cell_type": "markdown",
   "metadata": {},
   "source": [
    "### 3. Boolean\n",
    "\n",
    "A binary variable has the value of either True or False.  In python you can assign a boolean by using either True or False (note there are no quotes), or by explicitly defining it as a bool:"
   ]
  },
  {
   "cell_type": "code",
   "execution_count": 18,
   "metadata": {
    "collapsed": true
   },
   "outputs": [],
   "source": [
    "I_heart_ice_cream = True\n",
    "I_heart_anchovies = False\n",
    "I_like_bools = bool(True)"
   ]
  },
  {
   "cell_type": "code",
   "execution_count": 19,
   "metadata": {
    "collapsed": false
   },
   "outputs": [
    {
     "data": {
      "text/plain": [
       "True"
      ]
     },
     "execution_count": 19,
     "metadata": {},
     "output_type": "execute_result"
    }
   ],
   "source": [
    "I_like_bools"
   ]
  },
  {
   "cell_type": "code",
   "execution_count": null,
   "metadata": {
    "collapsed": true
   },
   "outputs": [],
   "source": []
  },
  {
   "cell_type": "markdown",
   "metadata": {},
   "source": [
    "### 4. Lists \n",
    "\n",
    "A list is an ordered sequence of values, where the same value may occur more than once.  I like to think of a list as a real list you would use in every day life, like a grocery list.  Each item in the list is called an element or item, and in python a list is represented by square brackets []. Here is an example of a list:"
   ]
  },
  {
   "cell_type": "code",
   "execution_count": 36,
   "metadata": {
    "collapsed": true
   },
   "outputs": [],
   "source": [
    "grocery_list = ['oranges', 'milk', 'cereal', 'coffee']"
   ]
  },
  {
   "cell_type": "markdown",
   "metadata": {},
   "source": [
    "You can see the methods associated with lists by typing the list name and a period then tabbing (just like we did with strings). Also the question mark thing works too.  Try below."
   ]
  },
  {
   "cell_type": "code",
   "execution_count": null,
   "metadata": {
    "collapsed": false
   },
   "outputs": [],
   "source": [
    "grocery_list.append"
   ]
  },
  {
   "cell_type": "markdown",
   "metadata": {},
   "source": [
    "You can add items to your list using the append method.  Try appending 'tea'."
   ]
  },
  {
   "cell_type": "code",
   "execution_count": 37,
   "metadata": {
    "collapsed": false
   },
   "outputs": [
    {
     "data": {
      "text/plain": [
       "['oranges', 'milk', 'cereal', 'coffee', 'tea']"
      ]
     },
     "execution_count": 37,
     "metadata": {},
     "output_type": "execute_result"
    }
   ],
   "source": [
    "grocery_list.append('tea')\n",
    "grocery_list"
   ]
  },
  {
   "cell_type": "markdown",
   "metadata": {},
   "source": [
    "And you can remove an item using remove.  Try removing tea below."
   ]
  },
  {
   "cell_type": "code",
   "execution_count": 38,
   "metadata": {
    "collapsed": false
   },
   "outputs": [
    {
     "data": {
      "text/plain": [
       "['oranges', 'milk', 'cereal', 'coffee']"
      ]
     },
     "execution_count": 38,
     "metadata": {},
     "output_type": "execute_result"
    }
   ],
   "source": [
    "grocery_list.remove('tea')\n",
    "grocery_list"
   ]
  },
  {
   "cell_type": "markdown",
   "metadata": {},
   "source": [
    "Items in the list are assigned an index, starting at 0, that defines where they are in the list. For example, the first item in the list above can be extracted by typing ```grocery_list[0]```. Try it, then try retrieving  'cereal' from the list."
   ]
  },
  {
   "cell_type": "code",
   "execution_count": 39,
   "metadata": {
    "collapsed": false
   },
   "outputs": [
    {
     "data": {
      "text/plain": [
       "'coffee'"
      ]
     },
     "execution_count": 39,
     "metadata": {},
     "output_type": "execute_result"
    }
   ],
   "source": [
    "grocery_list[3]"
   ]
  },
  {
   "cell_type": "markdown",
   "metadata": {},
   "source": [
    "You can add lists together.  Say someone gave you some extra things to buy and you wanted to add it to your list. Below, the friend's list is defined as a list called friend_list.  On a new line below friend_list, try adding (with a plus sign) your list to friend_list and call it all_groceries."
   ]
  },
  {
   "cell_type": "code",
   "execution_count": null,
   "metadata": {
    "collapsed": false
   },
   "outputs": [],
   "source": [
    "friend_list = ['eggs','bacon','ice cream', 'milk']"
   ]
  },
  {
   "cell_type": "markdown",
   "metadata": {
    "collapsed": false
   },
   "source": [
    "Now print all_groceries using the print command (e.g., ```print (all_groceries)```)."
   ]
  },
  {
   "cell_type": "code",
   "execution_count": null,
   "metadata": {
    "collapsed": false
   },
   "outputs": [],
   "source": [
    "all_items = grocery_list + friend_list"
   ]
  },
  {
   "cell_type": "markdown",
   "metadata": {},
   "source": [
    "Notice that the new list is in the order of the items in the first list, then the second list.\n",
    "\n",
    "### Exercise 2:  First, alphabetically sort the items in the list.  Then, remove the second occurrence of 'milk'.  *Hint:  look through your methods associated with your list to help you! :-)*"
   ]
  },
  {
   "cell_type": "code",
   "execution_count": null,
   "metadata": {
    "collapsed": false
   },
   "outputs": [],
   "source": []
  },
  {
   "cell_type": "markdown",
   "metadata": {},
   "source": [
    "### 5. Dictionaries\n",
    "In computer science, an associative array, map, symbol table, or dictionary is an abstract data type composed of a collection of (key, value) pairs, such that each possible key appears just once in the collection (Wiki).  Imagine a phone book where each name is associated with a phone number.  If you have the name, you have the key that gives you the value (the phone number).  \n",
    "\n",
    "Why use a dictionary when you can just put the values in a list of tuples -- for example:\n",
    "    \n",
    "    [('Able, Mary', '555-555-1234'),..., ('Zip, Justin', '555-555-1235')] \n",
    "    \n",
    "The main reason why a dictionary is used is speed -- in order to get the number for Justin Zip, you would have to read every name in the list until you get to the end of the list.  Imagine a full phone book with millions of names.  It would take a long time to read through all those names in order to get to the Z's.  With a dictionary, you can simply state the key, which has been mapped to its value.  \n",
    "    \n",
    "In python a dictionary is defined with curly brackets {}, or with **dict()**.  Keys and values are mapped like {key:value}"
   ]
  },
  {
   "cell_type": "code",
   "execution_count": null,
   "metadata": {
    "collapsed": true
   },
   "outputs": [],
   "source": [
    "phone_book = {'Brite, Rainbow': '555-555-1234', \n",
    "             'Shortcake, Strawberry': '555-555-1235'}"
   ]
  },
  {
   "cell_type": "markdown",
   "metadata": {},
   "source": [
    "In order to get Strawberry Shortcake's phone number here you would simply type:"
   ]
  },
  {
   "cell_type": "code",
   "execution_count": null,
   "metadata": {
    "collapsed": false
   },
   "outputs": [],
   "source": [
    "phone_book['Shortcake, Strawberry']"
   ]
  },
  {
   "cell_type": "markdown",
   "metadata": {},
   "source": [
    "In order to get all the names (the keys) you can use the keys() method:"
   ]
  },
  {
   "cell_type": "code",
   "execution_count": null,
   "metadata": {
    "collapsed": false
   },
   "outputs": [],
   "source": [
    "phone_book.keys()"
   ]
  },
  {
   "cell_type": "markdown",
   "metadata": {
    "collapsed": true
   },
   "source": [
    "You can get all the values by using the values() method:"
   ]
  },
  {
   "cell_type": "code",
   "execution_count": null,
   "metadata": {
    "collapsed": false
   },
   "outputs": [],
   "source": [
    "phone_book.values()"
   ]
  },
  {
   "cell_type": "markdown",
   "metadata": {},
   "source": [
    "You can add more keys value pairs by using the update method:"
   ]
  },
  {
   "cell_type": "code",
   "execution_count": null,
   "metadata": {
    "collapsed": false
   },
   "outputs": [],
   "source": [
    "phone_book.update({'Mouse, Mickey': '555-555-1236', 'Minnie, Mouse': '555-555-1237'})\n",
    "phone_book"
   ]
  },
  {
   "cell_type": "markdown",
   "metadata": {},
   "source": [
    "Or you can use this method:"
   ]
  },
  {
   "cell_type": "code",
   "execution_count": null,
   "metadata": {
    "collapsed": false
   },
   "outputs": [],
   "source": [
    "phone_book['Goof, Goofy'] = '555-555-1238'\n",
    "phone_book"
   ]
  },
  {
   "cell_type": "markdown",
   "metadata": {},
   "source": [
    "And you can remove an item by using the pop or del methods:"
   ]
  },
  {
   "cell_type": "code",
   "execution_count": null,
   "metadata": {
    "collapsed": false
   },
   "outputs": [],
   "source": [
    "phone_book.pop('Brite, Rainbow')\n",
    "phone_book\n",
    "del phone_book['Goof, Goofy']\n",
    "phone_book"
   ]
  },
  {
   "cell_type": "markdown",
   "metadata": {},
   "source": [
    "You can have a dictionary of dictionaries, a dictionary of lists, or a dictionary of tuples -- the sky is the limit!  Here is an example of a nested dictionary:"
   ]
  },
  {
   "cell_type": "code",
   "execution_count": null,
   "metadata": {
    "collapsed": false
   },
   "outputs": [],
   "source": [
    "cities = {'Seattle': {'lat': 47.6097, \n",
    "                      'lon': 122.3331,\n",
    "                      'state': 'Washington'}, \n",
    "          'New York': {'lat': 40.7127, \n",
    "                       'lon': 74.0059,\n",
    "                       'state': 'New York'}}\n",
    "cities"
   ]
  },
  {
   "cell_type": "markdown",
   "metadata": {},
   "source": [
    "### Exercise 3:  Complete the questions below.\n",
    "\n",
    "How do you get New York's longitude?"
   ]
  },
  {
   "cell_type": "code",
   "execution_count": null,
   "metadata": {
    "collapsed": false
   },
   "outputs": [],
   "source": [
    "cities['New York'][]"
   ]
  },
  {
   "cell_type": "markdown",
   "metadata": {},
   "source": [
    "How would you include Portland, Oregon, located at 45.5200° N, 122.6819° W in cities?"
   ]
  },
  {
   "cell_type": "code",
   "execution_count": null,
   "metadata": {
    "collapsed": true
   },
   "outputs": [],
   "source": []
  },
  {
   "cell_type": "markdown",
   "metadata": {},
   "source": [
    "How would you remove New York and its values?"
   ]
  },
  {
   "cell_type": "code",
   "execution_count": null,
   "metadata": {
    "collapsed": false
   },
   "outputs": [],
   "source": []
  }
 ],
 "metadata": {
  "kernelspec": {
   "display_name": "Python 2",
   "language": "python",
   "name": "python2"
  },
  "language_info": {
   "codemirror_mode": {
    "name": "ipython",
    "version": 2
   },
   "file_extension": ".py",
   "mimetype": "text/x-python",
   "name": "python",
   "nbconvert_exporter": "python",
   "pygments_lexer": "ipython2",
   "version": "2.7.10"
  }
 },
 "nbformat": 4,
 "nbformat_minor": 0
}
