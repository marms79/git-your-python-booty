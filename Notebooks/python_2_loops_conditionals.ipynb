{
 "cells": [
  {
   "cell_type": "markdown",
   "metadata": {},
   "source": [
    "# Loops and Conditionals"
   ]
  },
  {
   "cell_type": "markdown",
   "metadata": {},
   "source": [
    "In this section we look at ways to control the flow of your code.  \n",
    "\n",
    "We will cover:\n",
    "* For loops\n",
    "* If-else blocks \n"
   ]
  },
  {
   "cell_type": "markdown",
   "metadata": {},
   "source": [
    "### For Loops\n",
    "For loops are used when you have some of code you want to repeat n times.\n",
    "\n",
    "The basic structure of a for loop looks like this:\n",
    "\n",
    "for **item** in **collection**: <br>\n",
    "&nbsp;&nbsp;&nbsp;&nbsp;&nbsp;&nbsp;&nbsp;&nbsp;do something\n",
    "\n",
    "The lines that are indented will be executed in the loop. If a line is not indented, it will be executed after the loop has finished."
   ]
  },
  {
   "cell_type": "code",
   "execution_count": null,
   "metadata": {
    "collapsed": false
   },
   "outputs": [],
   "source": [
    "# For each item in my list, do something...\n",
    "my_list = ['Hear', 'See', 'Speak']\n",
    "for n in my_list:            ##### The colon indicates a block will follow\n",
    "    print (n + ' no evil')   ##### Python looks for indents to know what is contained in a block of code\n",
    "    \n",
    "print \"this line is outside of the loop\""
   ]
  },
  {
   "cell_type": "markdown",
   "metadata": {},
   "source": [
    "This can also be done by specifying the index and iterating through specifying a range of index values can easily be obtained by using **range()**, e.g.:"
   ]
  },
  {
   "cell_type": "code",
   "execution_count": null,
   "metadata": {
    "collapsed": false
   },
   "outputs": [],
   "source": [
    "range(0,10)  ######### range(n)  is the same as range(0,n)"
   ]
  },
  {
   "cell_type": "code",
   "execution_count": null,
   "metadata": {
    "collapsed": false
   },
   "outputs": [],
   "source": [
    "for i in range(0,100,2):\n",
    "    print i**2, \" \",\n"
   ]
  },
  {
   "cell_type": "markdown",
   "metadata": {},
   "source": [
    "*Note that range() will generate a sequence up to but not including the stopping number.*"
   ]
  },
  {
   "cell_type": "code",
   "execution_count": null,
   "metadata": {
    "collapsed": false
   },
   "outputs": [],
   "source": [
    "# Here is an example loop:\n",
    "for n in range(0, len(my_list)):\n",
    "    print n,\n",
    "    print (my_list[n] + ' no evil')\n",
    "    print \"hello\"\n",
    "# What does this give us that we didn't have before?"
   ]
  },
  {
   "cell_type": "markdown",
   "metadata": {},
   "source": [
    "The **enumerate()** function adds a counter to the thing being iterated. For example:"
   ]
  },
  {
   "cell_type": "code",
   "execution_count": null,
   "metadata": {
    "collapsed": false
   },
   "outputs": [],
   "source": [
    "for count, item in enumerate(my_list):\n",
    "    print count, item + ' no evil'"
   ]
  },
  {
   "cell_type": "code",
   "execution_count": null,
   "metadata": {
    "collapsed": false
   },
   "outputs": [],
   "source": [
    "for x,y in enumerate(\"string\"[::-1]):\n",
    "    print x, y"
   ]
  },
  {
   "cell_type": "markdown",
   "metadata": {},
   "source": [
    "### Exercise 1:  Using a for loop, insert new names and phone numbers into a phone book. \n",
    "\n",
    "\n",
    "We will take this problem in small parts to ensure you understand the data types and how loops work. Follow the steps outlined below.\n",
    "\n",
    "Below we have the dictionary called phone_book that contains names (keys) and phone numbers (values). "
   ]
  },
  {
   "cell_type": "code",
   "execution_count": 36,
   "metadata": {
    "collapsed": true
   },
   "outputs": [],
   "source": [
    "phone_book =  {'Brite, Rainbow': '555-555-1234',\n",
    "               'Goof, Goofy': '555-555-1238',\n",
    "               'Minney, Mouse': '555-555-1237',\n",
    "               'Mouse, Mickey': '555-555-1236',\n",
    "               'Shortcake, Strawberry': '555-555-1235'}"
   ]
  },
  {
   "cell_type": "markdown",
   "metadata": {},
   "source": [
    "To review the previous notebook, how would you get Mickey Mouse's phone number? Try below."
   ]
  },
  {
   "cell_type": "code",
   "execution_count": null,
   "metadata": {
    "collapsed": false
   },
   "outputs": [],
   "source": [
    "phone_book['Mouse, Mickey']"
   ]
  },
  {
   "cell_type": "markdown",
   "metadata": {},
   "source": [
    "Below we have a 'list of lists' that contain new names and numbers."
   ]
  },
  {
   "cell_type": "code",
   "execution_count": 38,
   "metadata": {
    "collapsed": false
   },
   "outputs": [],
   "source": [
    "new_numbers = [['Man, He', '555-555-2345'],\n",
    "               ['Ra, She', '555-555-2346'],\n",
    "               ['Boney, Skeletor', '555-555-2347'],\n",
    "               ['WhatIsThisThing, Orko', '555-555-2348']]"
   ]
  },
  {
   "cell_type": "markdown",
   "metadata": {},
   "source": [
    "How do I access the different names and phone numbers in this list of lists?"
   ]
  },
  {
   "cell_type": "code",
   "execution_count": null,
   "metadata": {
    "collapsed": false
   },
   "outputs": [],
   "source": [
    "# new_numbers[0][1]\n",
    "\n",
    "# boney = new_numbers[2]\n",
    "# print boney"
   ]
  },
  {
   "cell_type": "markdown",
   "metadata": {},
   "source": [
    "How would I add the first element of new_numbers to the dictionary? The second element?"
   ]
  },
  {
   "cell_type": "code",
   "execution_count": null,
   "metadata": {
    "collapsed": false
   },
   "outputs": [],
   "source": [
    "phone_book =  {'Brite, Rainbow': '555-555-1234',\n",
    "               'Goof, Goofy': '555-555-1238',\n",
    "               'Minney, Mouse': '555-555-1237',\n",
    "               'Mouse, Mickey': '555-555-1236',\n",
    "               'Shortcake, Strawberry': '555-555-1235'}\n",
    "# phone_book[] = \n",
    "# print phone_book\n"
   ]
  },
  {
   "cell_type": "markdown",
   "metadata": {},
   "source": [
    "Create a loop that cycles through each element in new_numbers, and print the lists, the names only, the numbers only.\n",
    "Then change the loop to add each entry to the phone_book."
   ]
  },
  {
   "cell_type": "code",
   "execution_count": 49,
   "metadata": {
    "collapsed": false
   },
   "outputs": [],
   "source": [
    "# for number in new_numbers:\n",
    "#     print "
   ]
  },
  {
   "cell_type": "code",
   "execution_count": null,
   "metadata": {
    "collapsed": true
   },
   "outputs": [],
   "source": [
    "phone_book =  {'Brite, Rainbow': '555-555-1234',\n",
    "               'Goof, Goofy': '555-555-1238',\n",
    "               'Minney, Mouse': '555-555-1237',\n",
    "               'Mouse, Mickey': '555-555-1236',\n",
    "               'Shortcake, Strawberry': '555-555-1235'}\n",
    "# for number in new_number:\n"
   ]
  },
  {
   "cell_type": "markdown",
   "metadata": {},
   "source": [
    "## If Statements\n",
    "\n",
    "An **if** statement allows control of the flow of your program based on if a statement is true or false. Here are the conditionals you can use:\n",
    "    \n",
    "    < (strictly less than)\n",
    "    > (strictly greater than)\n",
    "    <= (less than or equal to)\n",
    "    >= (greater than or equal to)\n",
    "    == (equal to)\n",
    "    != (not equal to)\n",
    "    \n",
    "The logical operators && (and), || (or), and ! (not) are also useful for combining expressions to test. In Python, these operators are represented by their words: \n",
    "\n",
    "    and\n",
    "    or\n",
    "    not\n",
    "    \n",
    "Conditionals can consist of just the **if**, **if** and **else**, or **if** , **elif** (shorthand for \"else if\"), and/or **else** statements."
   ]
  },
  {
   "cell_type": "code",
   "execution_count": null,
   "metadata": {
    "collapsed": false,
    "scrolled": true
   },
   "outputs": [],
   "source": [
    "x = 5\n",
    "y = 3\n",
    "print x > y\n",
    "print y > x\n",
    "print x == y  ### note the difference between using == for comparison and = for assignment\n",
    "print x * y == y * x\n",
    "print x != y"
   ]
  },
  {
   "cell_type": "code",
   "execution_count": null,
   "metadata": {
    "collapsed": true
   },
   "outputs": [],
   "source": [
    "x = \"alphabet\"\n",
    "y = \"banana\"\n",
    "\n",
    "# If Examples...\n",
    "if x == y:\n",
    "    print \"{0} and {1} are equal.\".format(x,y)\n",
    "\n",
    "if x != y:\n",
    "    print \"{0} and {1} are different.\".format(x,y)\n",
    "    \n",
    "if x > y:\n",
    "    print \"{0} is greater than {1}.\".format(x,y)\n",
    "    "
   ]
  },
  {
   "cell_type": "code",
   "execution_count": null,
   "metadata": {
    "collapsed": false
   },
   "outputs": [],
   "source": [
    "# If .. Else Example\n",
    "if x == y:\n",
    "    print \"{0} and {1} are equal.\".format(x,y)\n",
    "else:\n",
    "    print \"{0} and {1} are different.\".format(x,y)\n",
    "    "
   ]
  },
  {
   "cell_type": "code",
   "execution_count": null,
   "metadata": {
    "collapsed": false
   },
   "outputs": [],
   "source": [
    "# If Elif Else Example\n",
    "\n",
    "high = 75\n",
    "low = 68\n",
    "\n",
    "temp = 70\n",
    "\n",
    "if temp > high:\n",
    "    print \"It is too hot.\"\n",
    "elif temp < low:\n",
    "    print \"It is too cold.\"\n",
    "else:\n",
    "    print \"It is just right.\"\n"
   ]
  }
 ],
 "metadata": {
  "kernelspec": {
   "display_name": "Python 2",
   "language": "python",
   "name": "python2"
  },
  "language_info": {
   "codemirror_mode": {
    "name": "ipython",
    "version": 2
   },
   "file_extension": ".py",
   "mimetype": "text/x-python",
   "name": "python",
   "nbconvert_exporter": "python",
   "pygments_lexer": "ipython2",
   "version": "2.7.10"
  }
 },
 "nbformat": 4,
 "nbformat_minor": 0
}
