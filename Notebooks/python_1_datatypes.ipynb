{
 "cells": [
  {
   "cell_type": "markdown",
   "metadata": {},
   "source": [
    "# A Few Notes on Notebooks\n",
    "\n",
    "* **Notebooks contain cells.** The cells can defined as Markdown, code, headings, etc.  The drop down menu above allows you to change the cell type.  This cell is written in Markdown. \n",
    "\n",
    "\n",
    "* **The cell you are currently on is outlined.** To navigate to other cells, you can either click on the cell, or if the outline of the cell is in **blue**, you can use the up and down arrows. Blue indicates that you are not in edit mode. To enter (and edit) a cell like this one, double click on it.  Note the color of the cell outline turned **green**, indicating you are in edit mode.   \n",
    "\n",
    "\n",
    "* **To execute a cell**, click on the fast-forward sign above.  Alternatively, you can type Shift + Return.  \n",
    "    * **Executing this Markdown cell** brings it back to the website view.  \n",
    "    * **Cells defined as code:**\n",
    "        * Code cells have the text 'In [ ]:' To the left of the cell.  \n",
    "            * **NOT EXECUTED** -- space inside the square brackets is blank. \n",
    "            * **EXECUTED** -- a number will appear inside the square brackets.  *The number corresponds to when the cell was executed.  For example, if it is the first cell you executed, the text to the left would show 'In [1]:'.*\n",
    "            * **Cells should be executed in order.**  *If a cell is not executed and a later cell depends on the prior, an error will be thrown.*\n",
    "\n",
    "\n",
    "* **To insert a new cell** go to Insert --> Insert Cell Above/Below.  To **delete** a cell, go to Edit --> Delete cells.  Alternatively, short cut keys are **'a'** to add a cell and **'dd'** to delete.  The trick here is to be sure you are not 'in the cell' -- meaning you are not in edit mode.  If you are in edit mode, a green box will outline the cell.  If you are outside of your cell, the box turns blue.  Once your outline is blue you can type a or dd, which will add or delete your cell.\n",
    "\n",
    "\n",
    "* **Cell operations** such as copy/paste, etc., can be performed under edit."
   ]
  },
  {
   "cell_type": "markdown",
   "metadata": {},
   "source": [
    "# Data Types:  Show me the data!"
   ]
  },
  {
   "cell_type": "markdown",
   "metadata": {},
   "source": [
    "In Python, EVERYTHING is an **object**.  An object can be assigned to a **variable**, and have **methods** associated with them.  A method is an operation, or function that can be applied to the object. \n",
    "\n",
    "A **data type** is an object and is defined by the values it can take, and the **operations** that can be performed on it.  The data types we will cover are:\n",
    "\n",
    "* **Strings**\n",
    "        Sequences of characters (e.g., a = 'Hello'  or  a = \"World\")\n",
    "* **Integers**\n",
    "        Signed Whole Numbers ... -3, -2, -1, 0, 1, 2, 3, ...\n",
    "* **Floats** (aka \"floating point numbers\")\n",
    "        Real numbers represented using a decimal (e.g. 1.0, 1.1, 2.45, etc.) \n",
    "* **Booleans**\n",
    "        Only two: True or False (1 or 0)\n",
    "* **Lists** -- are surrounded by [ ] and contain objects \n",
    "        [10,20,30,40,50,60,70]  \n",
    "        \n",
    "        [\"a\", \"b\", \"c\"] \n",
    "        \n",
    "        [[0,0],[1,4],['apple','orange]] \n",
    "        \n",
    "* **Tuples** -- are surrounded by ( ) and are similar to Lists but are unchangeable like strings\n",
    "        (1,4,6)\n",
    "        \n",
    "        ('a', 'b', 'c', 'd', 'e')\n",
    "        \n",
    "* **Dictionaries**  -- are surrounded by { } and contain *key : value* pairs - keys must be immutable.\n",
    "        {\"a\" : \"alphabet\", \"b\" : \"butterfly\", \"c\" : \"caterpillar\", \"d\" : \"dragon\"}\n",
    "        {0 : [0,1,2], 1: [\"a\", \"b\"], \"alpha\" : \"omega\"}\n",
    "\n",
    "This list is NOT exhaustive, nor are the data types unique to Python."
   ]
  },
  {
   "cell_type": "code",
   "execution_count": null,
   "metadata": {
    "collapsed": false,
    "scrolled": true
   },
   "outputs": [],
   "source": [
    "print type('Hello')\n",
    "print type(-3)\n",
    "print type(4.5)\n",
    "print type(True)\n",
    "print type([1,2,3])\n",
    "print type((1,2,3))\n",
    "print type({'a': \"apple\"})"
   ]
  },
  {
   "cell_type": "markdown",
   "metadata": {},
   "source": [
    "## Variables\n",
    "\n",
    "A **variable** is an object where a data value can be stored. In Python variables are not assigned a particular data type. Python infers the data type from the value assigned. Variables may be named with letters, numbers, underscores, and are CASE SENSITIVE. Variables may start with a letter or an underscore but not with a number:\n",
    "\n",
    "       a = 5    _Apple = \"apple\"    x1 = [1,1,1]    X1 = (3,4,17)  <br> \n",
    "       my_dictionary = {\"a\":\"apple, \"b\":\"banana\"}   <br>\n",
    "\n",
    "       greeting = 'Monty Python likes rocks.'\n",
    "       misc_stuff = ['apple', 'zebra', 'life', 'the universe', 42]"
   ]
  },
  {
   "cell_type": "code",
   "execution_count": null,
   "metadata": {
    "collapsed": false
   },
   "outputs": [],
   "source": []
  },
  {
   "cell_type": "markdown",
   "metadata": {},
   "source": [
    "## Python makes a great calculator!!!\n",
    "The basic arithmetic operations for numbers are: \n",
    "\n",
    "``` + - * \\ pow() ** ```\n",
    "\n",
    "Integers also have `%` to compute remainders.\n",
    "The operators ` \\ ` and ` % ` have special meaning for integers. ` \\` will return only the integer part in integer division and `%` will return the remainder in integer division. *\n",
    "\n",
    " We will use the **`print`** command to output the results of our computations to the command line. Add your own computations. If no `print` is given then pressing shift+return will return only the last computation.    "
   ]
  },
  {
   "cell_type": "code",
   "execution_count": null,
   "metadata": {
    "collapsed": true
   },
   "outputs": [],
   "source": [
    "5+3"
   ]
  },
  {
   "cell_type": "code",
   "execution_count": null,
   "metadata": {
    "collapsed": false
   },
   "outputs": [],
   "source": [
    "5-3"
   ]
  },
  {
   "cell_type": "code",
   "execution_count": null,
   "metadata": {
    "collapsed": true
   },
   "outputs": [],
   "source": [
    "5*3"
   ]
  },
  {
   "cell_type": "code",
   "execution_count": null,
   "metadata": {
    "collapsed": false
   },
   "outputs": [],
   "source": [
    "5**3"
   ]
  },
  {
   "cell_type": "code",
   "execution_count": null,
   "metadata": {
    "collapsed": false
   },
   "outputs": [],
   "source": [
    "5/3  #### Note integer division only returns an integer!"
   ]
  },
  {
   "cell_type": "code",
   "execution_count": null,
   "metadata": {
    "collapsed": false,
    "scrolled": true
   },
   "outputs": [],
   "source": [
    "5.0/3   ### adding a decimal changes the type and the behavior of /"
   ]
  },
  {
   "cell_type": "code",
   "execution_count": null,
   "metadata": {
    "collapsed": false
   },
   "outputs": [],
   "source": [
    "5%3  ### this returns the integer remainder"
   ]
  },
  {
   "cell_type": "code",
   "execution_count": null,
   "metadata": {
    "collapsed": false
   },
   "outputs": [],
   "source": [
    "### A Math Teacher's idea of Hello World\n",
    "print\n",
    "print \"Hello World! Let's do Math!\"\n",
    "print\n",
    "a = 5\n",
    "b = 3\n",
    "print \"a = \", a\n",
    "print \"b = \", b\n",
    "print \"sum: \", a + b  ## Practice some simple math\n",
    "print \"difference: \", a - b\n",
    "print \"product: \", a * b\n",
    "print \"power: \", a**b\n",
    "print\n",
    "print \"{0} divided by {1} equals {2} with a remainder of {3}.\".format(a,b,a/b,a%b)\n",
    "print"
   ]
  },
  {
   "cell_type": "markdown",
   "metadata": {},
   "source": [
    "## String Operations\n",
    "We can use `+` and `*` on strings as well. (There is no corresponding meaning for - or / however.)\n"
   ]
  },
  {
   "cell_type": "code",
   "execution_count": null,
   "metadata": {
    "collapsed": false
   },
   "outputs": [],
   "source": [
    "greeting = 'Monty Python likes rocks.'\n",
    "print greeting + \" But I prefer the Rolling Stones.\""
   ]
  },
  {
   "cell_type": "code",
   "execution_count": null,
   "metadata": {
    "collapsed": false
   },
   "outputs": [],
   "source": [
    "(greeting + \" \") * 3"
   ]
  },
  {
   "cell_type": "markdown",
   "metadata": {},
   "source": [
    "## Methods\n",
    "Each of the built in data types have **functions** or **methods** associated with them. For example:<br>\n",
    "You can find the length of a list, string, or tuple with the method `len`.  Try it out in the next cell."
   ]
  },
  {
   "cell_type": "code",
   "execution_count": null,
   "metadata": {
    "collapsed": false
   },
   "outputs": [],
   "source": [
    "greeting = 'Monty Python likes rocks.'\n",
    "\n",
    "len(greeting)  #### this returns the length of the string in character"
   ]
  },
  {
   "cell_type": "code",
   "execution_count": null,
   "metadata": {
    "collapsed": false
   },
   "outputs": [],
   "source": [
    "misc_stuff = ['apple', 'zebra', 'life', 'the universe', 42]\n",
    "\n",
    "len(misc_stuff)  #### this returns the number of items in the list"
   ]
  },
  {
   "cell_type": "markdown",
   "metadata": {},
   "source": [
    "You can see additional methods associated with an object by typing the object name, a period, and then pressing tab. \n",
    "\n",
    "For example type ```greeting.``` and then press tab."
   ]
  },
  {
   "cell_type": "code",
   "execution_count": null,
   "metadata": {
    "collapsed": false
   },
   "outputs": [],
   "source": [
    "greeting.  #### put your cursor after the period and press tab"
   ]
  },
  {
   "cell_type": "markdown",
   "metadata": {},
   "source": [
    "You can find out a little about the method by typing ```greeting.method?``` then pressing shift+tab.  For example, you might want to know how many o's are in the string. You can find out a little about the method **count()** by typing ```greeting.count?```.  Try it out."
   ]
  },
  {
   "cell_type": "code",
   "execution_count": null,
   "metadata": {
    "collapsed": false
   },
   "outputs": [],
   "source": [
    "greeting.count?    ### press shift + tab\n"
   ]
  },
  {
   "cell_type": "code",
   "execution_count": null,
   "metadata": {
    "collapsed": false
   },
   "outputs": [],
   "source": [
    "greeting.count('o')  ### to execute a method you will need () filled in with the appropriate arguments if any"
   ]
  },
  {
   "cell_type": "code",
   "execution_count": null,
   "metadata": {
    "collapsed": false
   },
   "outputs": [],
   "source": [
    "print greeting.lower()\n",
    "print greeting.upper()"
   ]
  },
  {
   "cell_type": "markdown",
   "metadata": {},
   "source": [
    "You can find a list of built in Python functions [here](https://docs.python.org/2/library/functions.html)\n",
    "\n",
    "If you still have questions about what this does, remember that [Google](https://www.google.com/) and [Stack Overflow](http://stackoverflow.com/) are your friends ;-)."
   ]
  },
  {
   "cell_type": "markdown",
   "metadata": {},
   "source": [
    "## Referencing elements of strings and lists\n",
    "\n",
    "Strings and lists are indexed. We use square brackets to index into a string or list. Indexing always begins with 0. \n",
    "\n",
    "**Each letter, number, space or symbol in a string is indexed**, which defines the order of the elements in the string, starting at 0. The index of the string is defined in square brackets. For Example:\n",
    "\n",
    "**greeting = 'Monty Python likes rocks.'**\n",
    "\n",
    "In our variable greeting is defined as the string: 'Monty Python likes rocks.' So...\n",
    "\n",
    "    'M' --> greeting[0]\n",
    "    'o' --> greeting[1]\n",
    "    'n' --> greeting[2]\n",
    "    't' --> greeting[3]\n",
    "    'y' --> greeting[4]\n",
    "    ' ' --> greeting[5]\n",
    "    etc...\n",
    "\n",
    "How would you get the 'p'?\n",
    "\n",
    "You may index from the end using negative numbers.\n",
    "\n",
    "    '.' --> greeting[-1]\n",
    "    's' --> greeting[-2]\n",
    "    'k' --> greeting[-3]\n",
    "    'c' --> greeting[-4]\n",
    "    'o' --> greeting[-5]\n",
    "    'r' --> greeting[-6]\n",
    "    etc...\n",
    "    \n",
    "  "
   ]
  },
  {
   "cell_type": "code",
   "execution_count": null,
   "metadata": {
    "collapsed": false
   },
   "outputs": [],
   "source": [
    "greeting = 'Monty Python likes rocks.'\n",
    "print greeting[3]      ### try this with different indices"
   ]
  },
  {
   "cell_type": "markdown",
   "metadata": {},
   "source": [
    "We reference substrings by using two indices separated by a colon:\n",
    "\n",
    "    'Monty' --> greeting[0:5]\n",
    "    'rocks.' ---> greeting[19:25]\n",
    "    \n",
    "The general form looks like this:\n",
    "    \n",
    "    my_string[x:y] returns the x-indexed element up to but not including the y-indexed element in my_string. \n",
    "    my_string[:y]  is the same as my_string[0:y] \n",
    "    my_string[x:]  starts with the x index and returns everything after\n",
    "    my_string[-n:] returns the last n elements in my_string.\n",
    "    \n",
    "    my_string[x:y:k] returns every kth element in my_string starting with the xth element up to but not including the yth element of my_string. \n",
    "\n",
    "Example:\n",
    "\n",
    "    alphabet = 'abcdefghijklmnopqrstuvwxyz'\n",
    "    alphabet[0:13:2] = 'acegikm'\n",
    "    "
   ]
  },
  {
   "cell_type": "code",
   "execution_count": null,
   "metadata": {
    "collapsed": false
   },
   "outputs": [],
   "source": [
    "print greeting[0:5]  ##### this returns the string from index 0 up to but not including index 5. \n",
    "\n",
    "### Change the code below to reference 'Python' or 'rocks' ?\n"
   ]
  },
  {
   "cell_type": "code",
   "execution_count": null,
   "metadata": {
    "collapsed": false
   },
   "outputs": [],
   "source": [
    "print greeting[-6:]"
   ]
  },
  {
   "cell_type": "code",
   "execution_count": null,
   "metadata": {
    "collapsed": false,
    "scrolled": true
   },
   "outputs": [],
   "source": [
    "alphabet = 'abcdefghijklmnopqrstuvwxyz'\n",
    "print alphabet[0:13:2]"
   ]
  },
  {
   "cell_type": "code",
   "execution_count": null,
   "metadata": {
    "collapsed": false
   },
   "outputs": [],
   "source": [
    "print alphabet[::-1]  ### You can also step backwards! "
   ]
  },
  {
   "cell_type": "markdown",
   "metadata": {},
   "source": [
    "**Lists use the same notation, returning elements instead of characters.** For example, if:\n",
    "\n",
    "**misc_stuff = ['apple', 'zebra', 'life', 'the universe', 42]**\n",
    "\n",
    "    'apple' --> misc_stuff[0]\n",
    "    'zebra' --> misc_stuff[1]\n",
    "    'life'  --> misc_stuff[2]\n",
    "    \n",
    "    and\n",
    "    \n",
    "        42  --> misc_stuff[-1]\n",
    "    etc...\n",
    "    \n",
    "Similarly you can reference sublists of lists referencing their indices in square brackets.\n",
    "For example:\n",
    "\n",
    "    misc_stuff[:3] --> ['apple', 'zebra', 'life']\n",
    "      "
   ]
  },
  {
   "cell_type": "code",
   "execution_count": null,
   "metadata": {
    "collapsed": false
   },
   "outputs": [],
   "source": [
    "misc_stuff = ['apple', 'zebra', 'life', 'the universe', 42]\n",
    "\n",
    "print misc_stuff[1]\n",
    "print misc_stuff[2:4]"
   ]
  },
  {
   "cell_type": "markdown",
   "metadata": {},
   "source": [
    "## Other stuff we can do with lists: \n",
    "Lists may be added to lists:"
   ]
  },
  {
   "cell_type": "code",
   "execution_count": null,
   "metadata": {
    "collapsed": false
   },
   "outputs": [],
   "source": [
    "more_stuff = ['helmet', 'baseball glove', 312, \"100 Wall Street\"]\n",
    "\n",
    "new_pile_of_stuff = misc_stuff + more_stuff\n",
    "\n",
    "print new_pile_of_stuff"
   ]
  },
  {
   "cell_type": "markdown",
   "metadata": {},
   "source": [
    "**Unlike strings** - lists can *mutate* themselves be reassigning elements to an index. They can grow, shrink, and change in other ways:"
   ]
  },
  {
   "cell_type": "code",
   "execution_count": null,
   "metadata": {
    "collapsed": false
   },
   "outputs": [],
   "source": [
    "misc_stuff = ['apple', 'zebra', 'life', 'the universe', 42]\n",
    "\n",
    "misc_stuff[0] = \"Hitchhiker\"\n",
    "print misc_stuff"
   ]
  },
  {
   "cell_type": "code",
   "execution_count": null,
   "metadata": {
    "collapsed": false
   },
   "outputs": [],
   "source": [
    "##### Try this:\n",
    "my_string = \"Hello World\"\n",
    "my_string[0] = 'J' ###### Strings are immutable - they can't change pieces of them"
   ]
  },
  {
   "cell_type": "code",
   "execution_count": null,
   "metadata": {
    "collapsed": true
   },
   "outputs": [],
   "source": [
    "misc_stuff.append(\"banana\")\n",
    "print misc_stuff"
   ]
  },
  {
   "cell_type": "code",
   "execution_count": null,
   "metadata": {
    "collapsed": false,
    "scrolled": true
   },
   "outputs": [],
   "source": [
    "misc_stuff = ['apple', 'zebra', 'life', 'the universe', 42]\n",
    "misc_stuff.remove(42)\n",
    "print misc_stuff"
   ]
  },
  {
   "cell_type": "code",
   "execution_count": null,
   "metadata": {
    "collapsed": false,
    "scrolled": true
   },
   "outputs": [],
   "source": [
    "misc_stuff.sort()\n",
    "print misc_stuff"
   ]
  },
  {
   "cell_type": "code",
   "execution_count": null,
   "metadata": {
    "collapsed": true
   },
   "outputs": [],
   "source": [
    "misc_stuff.  ##### again hit tab to check out other methods we may use with a list"
   ]
  },
  {
   "cell_type": "markdown",
   "metadata": {},
   "source": [
    "## Dictionaries\n",
    "In computer science, an associative array, map, symbol table, or dictionary is an abstract data type composed of a collection of (key, value) pairs, such that each possible key appears just once in the collection (Wiki).  Imagine a phone book where each name is associated with a phone number.  If you have the name, you have the key that gives you the value (the phone number).  \n",
    "\n",
    "Why use a dictionary when you can just put the values in a list of tuples -- for example:\n",
    "    \n",
    "    [('Able, Mary', '555-555-1234'),..., ('Zip, Justin', '555-555-1235')] \n",
    "    \n",
    "**The main reason why a dictionary is used is speed** -- in order to get the number for Justin Zip, you would have to read every name in the list until you get to the end of the list.  Imagine a full phone book with millions of names.  It would take a long time to read through all those names in order to get to the Z's.  With a dictionary, you can simply state the key, which has been mapped to its value.  \n",
    "    \n",
    "In python a dictionary is defined with curly brackets {}, or with **dict()**.  Keys and values are mapped like {key:value}"
   ]
  },
  {
   "cell_type": "code",
   "execution_count": null,
   "metadata": {
    "collapsed": true
   },
   "outputs": [],
   "source": [
    "phone_book = {'Brite, Rainbow': '555-555-1234', \n",
    "             'Shortcake, Strawberry': '555-555-1235'}"
   ]
  },
  {
   "cell_type": "markdown",
   "metadata": {},
   "source": [
    "In order to get Strawberry Shortcake's phone number here you would simply type:"
   ]
  },
  {
   "cell_type": "code",
   "execution_count": null,
   "metadata": {
    "collapsed": false
   },
   "outputs": [],
   "source": [
    "phone_book['Shortcake, Strawberry']"
   ]
  },
  {
   "cell_type": "markdown",
   "metadata": {},
   "source": [
    "In order to get all the names (the keys) you can use the keys() method:"
   ]
  },
  {
   "cell_type": "code",
   "execution_count": null,
   "metadata": {
    "collapsed": false
   },
   "outputs": [],
   "source": [
    "phone_book.keys()"
   ]
  },
  {
   "cell_type": "markdown",
   "metadata": {
    "collapsed": true
   },
   "source": [
    "You can get all the values by using the values() method:"
   ]
  },
  {
   "cell_type": "code",
   "execution_count": null,
   "metadata": {
    "collapsed": false
   },
   "outputs": [],
   "source": [
    "phone_book.values()"
   ]
  },
  {
   "cell_type": "markdown",
   "metadata": {},
   "source": [
    "You can add more keys value pairs by using the update method:"
   ]
  },
  {
   "cell_type": "code",
   "execution_count": null,
   "metadata": {
    "collapsed": false
   },
   "outputs": [],
   "source": [
    "phone_book.update({'Mouse, Mickey': '555-555-1236', 'Minnie, Mouse': '555-555-1237'})\n",
    "phone_book"
   ]
  },
  {
   "cell_type": "markdown",
   "metadata": {},
   "source": [
    "Or you can use this method:"
   ]
  },
  {
   "cell_type": "code",
   "execution_count": null,
   "metadata": {
    "collapsed": false
   },
   "outputs": [],
   "source": [
    "phone_book['Goof, Goofy'] = '555-555-1238'\n",
    "phone_book"
   ]
  },
  {
   "cell_type": "markdown",
   "metadata": {},
   "source": [
    "And you can remove an item by using the pop or del methods:"
   ]
  },
  {
   "cell_type": "code",
   "execution_count": null,
   "metadata": {
    "collapsed": false
   },
   "outputs": [],
   "source": [
    "phone_book.pop('Brite, Rainbow')\n",
    "phone_book\n",
    "del phone_book['Goof, Goofy']\n",
    "phone_book"
   ]
  },
  {
   "cell_type": "markdown",
   "metadata": {},
   "source": [
    "You can have a dictionary of dictionaries, a dictionary of lists, or a dictionary of tuples -- the sky is the limit!  Here is an example of a nested dictionary:"
   ]
  },
  {
   "cell_type": "code",
   "execution_count": null,
   "metadata": {
    "collapsed": false
   },
   "outputs": [],
   "source": [
    "cities = {'Seattle': {'lat': 47.6097, \n",
    "                      'lon': 122.3331,\n",
    "                      'state': 'Washington'}, \n",
    "          'New York': {'lat': 40.7127, \n",
    "                       'lon': 74.0059,\n",
    "                       'state': 'New York'}}\n",
    "#### Change the code below to access different features of \"New York\"\n",
    "print cities['New York']"
   ]
  }
 ],
 "metadata": {
  "kernelspec": {
   "display_name": "Python 2",
   "language": "python",
   "name": "python2"
  },
  "language_info": {
   "codemirror_mode": {
    "name": "ipython",
    "version": 2
   },
   "file_extension": ".py",
   "mimetype": "text/x-python",
   "name": "python",
   "nbconvert_exporter": "python",
   "pygments_lexer": "ipython2",
   "version": "2.7.10"
  }
 },
 "nbformat": 4,
 "nbformat_minor": 0
}
