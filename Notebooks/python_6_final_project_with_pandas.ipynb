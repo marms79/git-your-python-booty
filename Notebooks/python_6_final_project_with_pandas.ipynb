{
 "cells": [
  {
   "cell_type": "markdown",
   "metadata": {},
   "source": [
    "# Final Project: Take 2\n",
    "\n",
    "In this notebook we'll show you how you can do the same calculations from the first \"final\" project with a library called ```pandas```. All the code is included since we didn't cover this :)\n",
    "\n",
    "There are several advantages to using pandas:\n",
    "+ Importing csv's are a breeze\n",
    "+ It's good at distinguishing between types (like ints and strings)\n",
    "+ Indexing is easy, and you can \"group by\" variables like you can in SQL\n",
    "\n",
    "Some disadvantages:\n",
    "+ All your data is loaded in at once, meaning that it won't work well for large files.\n",
    "+ Pandas can't support units (e.g. cm, m, seconds, etc.)"
   ]
  },
  {
   "cell_type": "markdown",
   "metadata": {},
   "source": [
    "## 1. Import your libraries"
   ]
  },
  {
   "cell_type": "code",
   "execution_count": 2,
   "metadata": {
    "collapsed": false
   },
   "outputs": [],
   "source": [
    "%matplotlib inline\n",
    "import numpy as np\n",
    "import matplotlib.pyplot as plt\n",
    "import pandas as pd"
   ]
  },
  {
   "cell_type": "markdown",
   "metadata": {},
   "source": [
    "## 2. File stuff\n",
    "\n",
    "Instead of reading it \"normally\", we'll put it into a Pandas dataframe:"
   ]
  },
  {
   "cell_type": "code",
   "execution_count": 22,
   "metadata": {
    "collapsed": false
   },
   "outputs": [
    {
     "name": "stdout",
     "output_type": "stream",
     "text": [
      "   id   first_name    country  age gender\n",
      "0   1     Nicholas   Honduras   43      M\n",
      "1   2      Mildred  Indonesia   31      F\n",
      "2   3    Catherine   Malaysia   33      F\n",
      "3   4         Juan      China   21      M\n",
      "4   5  Christopher  Indonesia   73      M\n",
      "0           Honduras\n",
      "1          Indonesia\n",
      "2           Malaysia\n",
      "3              China\n",
      "4          Indonesia\n",
      "5     Czech Republic\n",
      "6          Indonesia\n",
      "7        Philippines\n",
      "8            Belarus\n",
      "9           Thailand\n",
      "10       Philippines\n",
      "11             China\n",
      "12       Philippines\n",
      "13            Poland\n",
      "14            France\n",
      "15          Thailand\n",
      "16            France\n",
      "17        Madagascar\n",
      "18       Philippines\n",
      "19          Thailand\n",
      "20        Tajikistan\n",
      "21              Peru\n",
      "22           Ukraine\n",
      "23      South Africa\n",
      "24             China\n",
      "Name: country, dtype: object\n"
     ]
    }
   ],
   "source": [
    "data_filename = './sample_data.csv'\n",
    "\n",
    "data = pd.read_csv(data_filename, header=0)\n",
    "print data.head()  # show the first 5 rows. Notice they're 0-indexed.\n",
    "# print data[\"age\"]\n",
    "print data[\"country\"][0:25]"
   ]
  },
  {
   "cell_type": "markdown",
   "metadata": {},
   "source": [
    "## 3. Compute the average age of the people in the dataset\n",
    "\n",
    "Hint: only consider the 'age' column, and use numpy to compute the mean"
   ]
  },
  {
   "cell_type": "code",
   "execution_count": 11,
   "metadata": {
    "collapsed": false
   },
   "outputs": [
    {
     "name": "stdout",
     "output_type": "stream",
     "text": [
      "3.0\n",
      "49.442 years\n",
      "The average age is 49.4 years\n"
     ]
    }
   ],
   "source": [
    "average_age = np.mean(data['age'])\n",
    "print np.mean([1,2,3,4,5])\n",
    "print str(average_age) + ' years'\n",
    "print \"The average age is %0.1f years\" % (average_age)"
   ]
  },
  {
   "cell_type": "markdown",
   "metadata": {},
   "source": [
    "## 4. Count the number of men and women in this data\n",
    "\n",
    "Hint: use the pandas \"groupby\" method"
   ]
  },
  {
   "cell_type": "code",
   "execution_count": 7,
   "metadata": {
    "collapsed": false
   },
   "outputs": [
    {
     "name": "stdout",
     "output_type": "stream",
     "text": [
      "Number of women: 514\n",
      "Number of men: 486\n"
     ]
    }
   ],
   "source": [
    "group_df = data.groupby(['gender'])\n",
    "print 'Number of women: ' + str(len(group_df.get_group('F')))\n",
    "print 'Number of men: ' + str(len(group_df.get_group('M')))"
   ]
  },
  {
   "cell_type": "markdown",
   "metadata": {},
   "source": [
    "## 5. Compute the average age for men and women (separately)\n",
    "\n",
    "Hint: use the pandas \"groupby\" method, as use numpy to compute the mean"
   ]
  },
  {
   "cell_type": "code",
   "execution_count": 8,
   "metadata": {
    "collapsed": false
   },
   "outputs": [
    {
     "name": "stdout",
     "output_type": "stream",
     "text": [
      "The average age of women is 49.3 years\n",
      "The average age of men is 49.5 years\n"
     ]
    }
   ],
   "source": [
    "print \"The average age of women is %0.1f years\" % np.mean(group_df.get_group('F')['age'])\n",
    "print \"The average age of men is %0.1f years\" % np.mean(group_df.get_group('M')['age'])"
   ]
  },
  {
   "cell_type": "markdown",
   "metadata": {},
   "source": [
    "## 6. Plot the distribution of ages"
   ]
  },
  {
   "cell_type": "code",
   "execution_count": 9,
   "metadata": {
    "collapsed": false
   },
   "outputs": [
    {
     "data": {
      "image/png": "[encoded data removed]",
      "text/plain": [
       "<matplotlib.figure.Figure at 0x10a872bd0>"
      ]
     },
     "metadata": {},
     "output_type": "display_data"
    }
   ],
   "source": [
    "num_bins = 50\n",
    "n, bins, patches = plt.hist(data.age, num_bins, facecolor='green', alpha = 0.5)\n",
    "plt.axis([10, 90, 0, 50])  # xmin, xmax, ymin, ymax\n",
    "plt.grid('on')\n",
    "plt.xlabel('Ages of people')\n",
    "plt.ylabel('Count')\n",
    "plt.title('Distribution of ages')\n",
    "plt.show()"
   ]
  },
  {
   "cell_type": "code",
   "execution_count": null,
   "metadata": {
    "collapsed": true
   },
   "outputs": [],
   "source": []
  }
 ],
 "metadata": {
  "kernelspec": {
   "display_name": "Python 2",
   "language": "python",
   "name": "python2"
  },
  "language_info": {
   "codemirror_mode": {
    "name": "ipython",
    "version": 2
   },
   "file_extension": ".py",
   "mimetype": "text/x-python",
   "name": "python",
   "nbconvert_exporter": "python",
   "pygments_lexer": "ipython2",
   "version": "2.7.10"
  }
 },
 "nbformat": 4,
 "nbformat_minor": 0
}
